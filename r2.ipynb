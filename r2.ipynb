{
 "cells": [
  {
   "cell_type": "code",
   "execution_count": 1,
   "id": "1f5f27a2-b68b-429f-a856-4dfcfe1a66ce",
   "metadata": {},
   "outputs": [],
   "source": [
    "options(warn = -1)"
   ]
  },
  {
   "cell_type": "code",
   "execution_count": 2,
   "id": "e42597dc-5cd6-43d6-a9fb-02b14158d6fa",
   "metadata": {},
   "outputs": [],
   "source": [
    "df <- read.csv('cut_taxi_dataset10000.csv')\n",
    "df_2 <- read.csv('student_health_data.csv')"
   ]
  },
  {
   "cell_type": "code",
   "execution_count": 3,
   "id": "5a19c010-8b9e-4a05-898d-b4b99bc85334",
   "metadata": {},
   "outputs": [
    {
     "name": "stderr",
     "output_type": "stream",
     "text": [
      "\n",
      "Присоединяю пакет: ‘dplyr’\n",
      "\n",
      "\n",
      "Следующие объекты скрыты от ‘package:stats’:\n",
      "\n",
      "    filter, lag\n",
      "\n",
      "\n",
      "Следующие объекты скрыты от ‘package:base’:\n",
      "\n",
      "    intersect, setdiff, setequal, union\n",
      "\n",
      "\n"
     ]
    }
   ],
   "source": [
    "library(stats)\n",
    "library(dplyr)"
   ]
  },
  {
   "cell_type": "code",
   "execution_count": 4,
   "id": "81b7f768-eb1f-4de4-aa61-b4554e18c7c8",
   "metadata": {},
   "outputs": [
    {
     "name": "stderr",
     "output_type": "stream",
     "text": [
      "Обновляю HTML-список пакетов в '.Library'\n",
      "\n",
      "Making 'packages.html' ...\n",
      " готово\n",
      "\n"
     ]
    }
   ],
   "source": [
    "install.packages(\"corrplot\")"
   ]
  },
  {
   "cell_type": "markdown",
   "id": "ba0c01c1-9719-4a82-b4f5-4db2742c9302",
   "metadata": {},
   "source": [
    "#### 1 Задание\n",
    "Продемонстрировать применение для проверки различных гипотез и\n",
    "различных доверительных уровней (0.9, 0.95, 0.99) следующих критериев:\n",
    "a.\n",
    "Стьюдента, включая односторонние варианты, когда\n",
    "проверяемая нулевая гипотеза заключается в том, что одно из сравниваемыхсредних значений больше (или меньше) другого. Реализовать оценку\n",
    "мощности критериев при заданном объеме выборки или определения\n",
    "объема выборки для достижения заданной мощности;\n",
    "b.\n",
    "Уилкоксона-Манна-Уитни (ранговые);\n",
    "c.\n",
    "Фишера, Левене, Бартлетта, Флигнера-Килина (проверка\n",
    "гипотез об однородности дисперсий)."
   ]
  },
  {
   "cell_type": "code",
   "execution_count": 5,
   "id": "5f403cbd-7c1c-4b16-a95b-51c60d38d2a5",
   "metadata": {},
   "outputs": [
    {
     "name": "stdout",
     "output_type": "stream",
     "text": [
      "'data.frame':\t31 obs. of  3 variables:\n",
      " $ X         : int  0 1 2 3 4 5 6 7 8 9 ...\n",
      " $ date      : chr  \"2015-01-01\" \"2015-01-02\" \"2015-01-03\" \"2015-01-04\" ...\n",
      " $ trip_count: int  310 300 337 268 272 313 331 353 360 412 ...\n"
     ]
    }
   ],
   "source": [
    "alpha_levels <- c(0.1, 0.04, 0.01) # уровни значимости\n",
    "trips_per_day <- read.csv('trips_per_day.csv') \n",
    "str(trips_per_day)"
   ]
  },
  {
   "cell_type": "code",
   "execution_count": 6,
   "id": "582ab284-426c-4c79-bbce-96d35aa7a019",
   "metadata": {},
   "outputs": [
    {
     "name": "stdout",
     "output_type": "stream",
     "text": [
      "Kolmogorov-Smirnov test: Stat=0.2315, p-value=0.0720\n"
     ]
    }
   ],
   "source": [
    "# Колмогоров-Смирнов тест на нормальность\n",
    "ks_stat <- ks.test(\n",
    "  trips_per_day$trip_count,\n",
    "  \"pnorm\",\n",
    "  mean = mean(trips_per_day$trip_count),\n",
    "  sd = sd(trips_per_day$trip_count)\n",
    ")\n",
    "cat(sprintf(\"Kolmogorov-Smirnov test: Stat=%.4f, p-value=%.4f\\n\", ks_stat$statistic, ks_stat$p.value))\n"
   ]
  },
  {
   "cell_type": "code",
   "execution_count": 7,
   "id": "410eb813-34eb-4e88-aef8-f3854b8a79cb",
   "metadata": {},
   "outputs": [
    {
     "name": "stdout",
     "output_type": "stream",
     "text": [
      "Двусторонний тест: t-статистика: 0.49, p-значение: 0.6262\n",
      "Односторонний тест (mean(group_1) <= mean(group_2)): t-статистика: 0.49, p-значение: 0.6869\n",
      "\n",
      "Доверительный уровень: 0.90\n",
      "Двусторонний тест:\n",
      "Не отвергаем нулевую гипотезу\n",
      "Односторонний тест:\n",
      "Не отвергаем нулевую гипотезу\n",
      "\n",
      "Доверительный уровень: 0.96\n",
      "Двусторонний тест:\n",
      "Не отвергаем нулевую гипотезу\n",
      "Односторонний тест:\n",
      "Не отвергаем нулевую гипотезу\n",
      "\n",
      "Доверительный уровень: 0.99\n",
      "Двусторонний тест:\n",
      "Не отвергаем нулевую гипотезу\n",
      "Односторонний тест:\n",
      "Не отвергаем нулевую гипотезу\n"
     ]
    }
   ],
   "source": [
    "# Разделение данных на две группы\n",
    "group_1 <- trips_per_day %>%\n",
    "  filter(X <= 14) %>%\n",
    "  pull(trip_count)\n",
    "\n",
    "group_2 <- trips_per_day %>%\n",
    "  filter(X > 14) %>%\n",
    "  pull(trip_count)\n",
    "\n",
    "# Критерий Стьюдента для независимых выборок\n",
    "# Двусторонний тест\n",
    "t_test_2 <- t.test(group_1, group_2, var.equal = FALSE)\n",
    "cat(sprintf(\"Двусторонний тест: t-статистика: %.2f, p-значение: %.4f\\n\", t_test_2$statistic, t_test_2$p.value))\n",
    "\n",
    "# Односторонний тест (H0: mean(group_1) <= mean(group_2))\n",
    "t_test_1 <- t.test(group_1, group_2, alternative = \"less\", var.equal = FALSE)\n",
    "cat(sprintf(\"Односторонний тест (mean(group_1) <= mean(group_2)): t-статистика: %.2f, p-значение: %.4f\\n\", t_test_1$statistic, t_test_1$p.value))\n",
    "\n",
    "# Проверка доверительных уровней\n",
    "for (alpha in alpha_levels) {\n",
    "  cat(sprintf(\"\\nДоверительный уровень: %.2f\\n\", 1 - alpha))\n",
    "  \n",
    "  # Двусторонний тест\n",
    "  cat(\"Двусторонний тест:\\n\")\n",
    "  if (t_test_2$p.value < alpha) {\n",
    "    cat(\"Отвергаем нулевую гипотезу\\n\")\n",
    "  } else {\n",
    "    cat(\"Не отвергаем нулевую гипотезу\\n\")\n",
    "  }\n",
    "  \n",
    "  # Односторонний тест\n",
    "  cat(\"Односторонний тест:\\n\")\n",
    "  if (t_test_1$p.value < alpha) {\n",
    "    cat(\"Отвергаем нулевую гипотезу\\n\")\n",
    "  } else {\n",
    "    cat(\"Не отвергаем нулевую гипотезу\\n\")\n",
    "  }\n",
    "}"
   ]
  },
  {
   "cell_type": "code",
   "execution_count": 8,
   "id": "6cf94c06-32b9-493a-bb00-e1e59d57e51d",
   "metadata": {},
   "outputs": [
    {
     "name": "stderr",
     "output_type": "stream",
     "text": [
      "Обновляю HTML-список пакетов в '.Library'\n",
      "\n",
      "Making 'packages.html' ...\n",
      " готово\n",
      "\n"
     ]
    }
   ],
   "source": [
    "install.packages('pwr')"
   ]
  },
  {
   "cell_type": "code",
   "execution_count": 9,
   "id": "e97138d0-2b2e-429a-82f8-8b6142b2739c",
   "metadata": {},
   "outputs": [
    {
     "name": "stdout",
     "output_type": "stream",
     "text": [
      "Критерий Уилкоксона-Манна-Уитни: стат=93.00, p=0.2948\n",
      "\n",
      "Доверительный уровень: 0.90\n",
      "Не отвергаем нулевую гипотезу\n",
      "\n",
      "Доверительный уровень: 0.96\n",
      "Не отвергаем нулевую гипотезу\n",
      "\n",
      "Доверительный уровень: 0.99\n",
      "Не отвергаем нулевую гипотезу\n",
      "\n",
      "Критерий Левена: p=0.0530\n",
      "Критерий Бартлетта: стат=8.15, p=0.0043\n",
      "Критерий Флигнера-Килина: стат=0.02, p=0.8792\n",
      "\n",
      "Доверительный уровень: 0.90\n",
      "Критерий Левена:\n",
      "Отвергаем нулевую гипотезу\n",
      "Критерий Бартлетта:\n",
      "Отвергаем нулевую гипотезу\n",
      "Критерий Флигнера-Килина:\n",
      "Не отвергаем нулевую гипотезу\n",
      "\n",
      "Доверительный уровень: 0.96\n",
      "Критерий Левена:\n",
      "Не отвергаем нулевую гипотезу\n",
      "Критерий Бартлетта:\n",
      "Отвергаем нулевую гипотезу\n",
      "Критерий Флигнера-Килина:\n",
      "Не отвергаем нулевую гипотезу\n",
      "\n",
      "Доверительный уровень: 0.99\n",
      "Критерий Левена:\n",
      "Не отвергаем нулевую гипотезу\n",
      "Критерий Бартлетта:\n",
      "Отвергаем нулевую гипотезу\n",
      "Критерий Флигнера-Килина:\n",
      "Не отвергаем нулевую гипотезу\n",
      "\n",
      "Мощность критерия Стьюдента: 0.08\n",
      "Необходимый объем выборки для мощности 0.8: 510\n"
     ]
    }
   ],
   "source": [
    "library(pwr)  # Для оценки мощности\n",
    "\n",
    "\n",
    "# Уровни значимости\n",
    "alpha_levels <- c(0.1, 0.04, 0.01)\n",
    "\n",
    "# 2. Критерий Уилкоксона-Манна-Уитни\n",
    "wilcox_test <- wilcox.test(group_1, group_2, alternative = \"two.sided\")\n",
    "stat <- wilcox_test$statistic\n",
    "p_value <- wilcox_test$p.value\n",
    "\n",
    "cat(sprintf(\"Критерий Уилкоксона-Манна-Уитни: стат=%.2f, p=%.4f\\n\", stat, p_value))\n",
    "\n",
    "for (alpha in alpha_levels) {\n",
    "  cat(sprintf(\"\\nДоверительный уровень: %.2f\\n\", 1 - alpha))\n",
    "  if (p_value < alpha) {\n",
    "    cat(\"Отвергаем нулевую гипотезу (различия между группами значимы)\\n\")\n",
    "  } else {\n",
    "    cat(\"Не отвергаем нулевую гипотезу\\n\")\n",
    "  }\n",
    "}\n",
    "cat(\"\\n\")\n",
    "\n",
    "# 3. Проверка равенства дисперсий\n",
    "# Критерий Левена вручную\n",
    "levene_test_manual <- function(values, groups) {\n",
    "  group_means <- tapply(values, groups, mean)\n",
    "  deviations <- abs(values - group_means[groups])\n",
    "  aov_result <- aov(deviations ~ groups)\n",
    "  return(aov_result)\n",
    "}\n",
    "\n",
    "all_values <- c(group_1, group_2)\n",
    "all_groups <- factor(c(rep(1, length(group_1)), rep(2, length(group_2))))\n",
    "\n",
    "levene_result <- levene_test_manual(all_values, all_groups)\n",
    "levene_p <- summary(levene_result)[[1]][\"groups\", \"Pr(>F)\"]\n",
    "\n",
    "bartlett_test <- bartlett.test(list(group_1, group_2))\n",
    "bartlett_stat <- bartlett_test$statistic\n",
    "bartlett_p <- bartlett_test$p.value\n",
    "\n",
    "fligner_test <- fligner.test(c(group_1, group_2), \n",
    "                             factor(c(rep(1, length(group_1)), rep(2, length(group_2)))))\n",
    "fligner_stat <- fligner_test$statistic\n",
    "fligner_p <- fligner_test$p.value\n",
    "\n",
    "cat(sprintf(\"Критерий Левена: p=%.4f\\n\", levene_p))\n",
    "cat(sprintf(\"Критерий Бартлетта: стат=%.2f, p=%.4f\\n\", bartlett_stat, bartlett_p))\n",
    "cat(sprintf(\"Критерий Флигнера-Килина: стат=%.2f, p=%.4f\\n\", fligner_stat, fligner_p))\n",
    "\n",
    "for (alpha in alpha_levels) {\n",
    "  cat(sprintf(\"\\nДоверительный уровень: %.2f\\n\", 1 - alpha))\n",
    "  \n",
    "  cat(\"Критерий Левена:\\n\")\n",
    "  if (levene_p < alpha) {\n",
    "    cat(\"Отвергаем нулевую гипотезу\\n\")\n",
    "  } else {\n",
    "    cat(\"Не отвергаем нулевую гипотезу\\n\")\n",
    "  }\n",
    "  \n",
    "  cat(\"Критерий Бартлетта:\\n\")\n",
    "  if (bartlett_p < alpha) {\n",
    "    cat(\"Отвергаем нулевую гипотезу\\n\")\n",
    "  } else {\n",
    "    cat(\"Не отвергаем нулевую гипотезу\\n\")\n",
    "  }\n",
    "  \n",
    "  cat(\"Критерий Флигнера-Килина:\\n\")\n",
    "  if (fligner_p < alpha) {\n",
    "    cat(\"Отвергаем нулевую гипотезу\\n\")\n",
    "  } else {\n",
    "    cat(\"Не отвергаем нулевую гипотезу\\n\")\n",
    "  }\n",
    "}\n",
    "\n",
    "# 4. Оценка мощности критерия Стьюдента\n",
    "# Зададим параметры: размер выборки, эффект, стандартное отклонение\n",
    "effect_size <- abs(mean(group_1) - mean(group_2)) / \n",
    "  sqrt((var(group_1) + var(group_2)) / 2)\n",
    "\n",
    "# Мощность критерия\n",
    "power <- pwr.t.test(d = effect_size, \n",
    "                    n = length(group_1), \n",
    "                    sig.level = 0.05, \n",
    "                    type = \"two.sample\", \n",
    "                    alternative = \"two.sided\")$power\n",
    "cat(sprintf(\"\\nМощность критерия Стьюдента: %.2f\\n\", power))\n",
    "\n",
    "# Необходимый размер выборки для мощности 0.8\n",
    "sample_size <- pwr.t.test(d = effect_size, \n",
    "                          power = 0.8, \n",
    "                          sig.level = 0.05, \n",
    "                          type = \"two.sample\", \n",
    "                          alternative = \"two.sided\")$n\n",
    "cat(sprintf(\"Необходимый объем выборки для мощности 0.8: %.0f\\n\", ceiling(sample_size)))"
   ]
  },
  {
   "cell_type": "markdown",
   "id": "9fd63497-5e1c-4e79-8205-197f7aaaaef7",
   "metadata": {},
   "source": [
    "#### 2 Задание\n",
    "Исследовать корреляционные взаимосвязи в данных с помощью\n",
    "коэффициентов корреляции Пирсона, Спирмена и Кендалла."
   ]
  },
  {
   "cell_type": "code",
   "execution_count": 10,
   "id": "4f651cbc-9b1b-4008-9492-e6416cc4f523",
   "metadata": {},
   "outputs": [
    {
     "name": "stdout",
     "output_type": "stream",
     "text": [
      "Корреляционная матрица (Пирсон):\n",
      "            X           Y           Z           W\n",
      "X  1.00000000  0.97082824 -0.05346177  0.80033053\n",
      "Y  0.97082824  1.00000000 -0.03729589  0.78275564\n",
      "Z -0.05346177 -0.03729589  1.00000000 -0.03008194\n",
      "W  0.80033053  0.78275564 -0.03008194  1.00000000\n",
      "\n",
      "Корреляционная матрица (Спирмен):\n",
      "            X           Y           Z           W\n",
      "X  1.00000000  0.96682667 -0.02470862  0.96378909\n",
      "Y  0.96682667  1.00000000 -0.01344934  0.92581715\n",
      "Z -0.02470862 -0.01344934  1.00000000 -0.03692492\n",
      "W  0.96378909  0.92581715 -0.03692492  1.00000000\n",
      "\n",
      "Корреляционная матрица (Кендалл):\n",
      "            X            Y            Z           W\n",
      "X  1.00000000  0.847135678 -0.017386935  0.84944724\n",
      "Y  0.84713568  1.000000000 -0.009447236  0.76592965\n",
      "Z -0.01738693 -0.009447236  1.000000000 -0.02502513\n",
      "W  0.84944724  0.765929648 -0.025025126  1.00000000\n",
      "\n",
      "Коэффициенты корреляции между переменными:\n",
      "X и Y: Пирсон=0.97, Спирмен=0.97, Кендалл=0.85\n",
      "X и Z: Пирсон=-0.05, Спирмен=-0.02, Кендалл=-0.02\n",
      "X и W: Пирсон=0.80, Спирмен=0.96, Кендалл=0.85\n",
      "Y и Z: Пирсон=-0.04, Спирмен=-0.01, Кендалл=-0.01\n",
      "Y и W: Пирсон=0.78, Спирмен=0.93, Кендалл=0.77\n",
      "Z и W: Пирсон=-0.03, Спирмен=-0.04, Кендалл=-0.03\n"
     ]
    }
   ],
   "source": [
    "set.seed(42)\n",
    "\n",
    "# Генерация данных\n",
    "X <- rnorm(200)\n",
    "Y <- X * 2 + rnorm(200, sd = 0.5)\n",
    "Z <- rnorm(200)\n",
    "W <- exp(X) + rnorm(200, sd = 0.2)\n",
    "\n",
    "data <- data.frame(X = X, Y = Y, Z = Z, W = W)\n",
    "\n",
    "# Корреляционные матрицы\n",
    "pearson_corr <- cor(data, method = \"pearson\")\n",
    "spearman_corr <- cor(data, method = \"spearman\")\n",
    "kendall_corr <- cor(data, method = \"kendall\")\n",
    "\n",
    "cat(\"Корреляционная матрица (Пирсон):\\n\")\n",
    "print(pearson_corr)\n",
    "cat(\"\\nКорреляционная матрица (Спирмен):\\n\")\n",
    "print(spearman_corr)\n",
    "cat(\"\\nКорреляционная матрица (Кендалл):\\n\")\n",
    "print(kendall_corr)\n",
    "\n",
    "# Вывод коэффициентов между переменными\n",
    "pairs <- list(c(\"X\", \"Y\"), c(\"X\", \"Z\"), c(\"X\", \"W\"), c(\"Y\", \"Z\"), c(\"Y\", \"W\"), c(\"Z\", \"W\"))\n",
    "cat(\"\\nКоэффициенты корреляции между переменными:\\n\")\n",
    "for (pair in pairs) {\n",
    "  x <- pair[1]\n",
    "  y <- pair[2]\n",
    "  pearson_coef <- cor(data[[x]], data[[y]], method = \"pearson\")\n",
    "  spearman_coef <- cor(data[[x]], data[[y]], method = \"spearman\")\n",
    "  kendall_coef <- cor(data[[x]], data[[y]], method = \"kendall\")\n",
    "  cat(sprintf(\"%s и %s: Пирсон=%.2f, Спирмен=%.2f, Кендалл=%.2f\\n\", \n",
    "              x, y, pearson_coef, spearman_coef, kendall_coef))\n",
    "}\n"
   ]
  },
  {
   "cell_type": "code",
   "execution_count": 11,
   "id": "1dc01bfd-6ee3-447e-ac67-ab8614668e19",
   "metadata": {},
   "outputs": [
    {
     "name": "stdout",
     "output_type": "stream",
     "text": [
      "Корреляция между total_amount и trip_distance:\n",
      "Пирсон: 0.91\n",
      "Спирмен: 0.91\n",
      "Кендалл: 0.77\n"
     ]
    }
   ],
   "source": [
    "numeric_columns <- df[,sapply(df, is.numeric)]\n",
    "\n",
    "var1 <- \"total_amount\"\n",
    "var2 <- \"trip_distance\"\n",
    "\n",
    "pearson_corr <- cor(numeric_columns[[var1]], numeric_columns[[var2]], method = \"pearson\")\n",
    "spearman_corr <- cor(numeric_columns[[var1]], numeric_columns[[var2]], method = \"spearman\")\n",
    "kendall_corr <- cor(numeric_columns[[var1]], numeric_columns[[var2]], method = \"kendall\")\n",
    "\n",
    "cat(sprintf(\"Корреляция между %s и %s:\\n\", var1, var2))\n",
    "cat(sprintf(\"Пирсон: %.2f\\n\", pearson_corr))\n",
    "cat(sprintf(\"Спирмен: %.2f\\n\", spearman_corr))\n",
    "cat(sprintf(\"Кендалл: %.2f\\n\", kendall_corr))"
   ]
  },
  {
   "cell_type": "code",
   "execution_count": 12,
   "id": "68a021a2-bea0-447a-831b-70d2d09715a9",
   "metadata": {},
   "outputs": [
    {
     "name": "stdout",
     "output_type": "stream",
     "text": [
      "Корреляция между fare_amount и passenger_count:\n",
      "Пирсон: 0.03\n",
      "Спирмен: 0.02\n",
      "Кендалл: 0.02\n"
     ]
    }
   ],
   "source": [
    "var1 <- 'fare_amount'\n",
    "var2 <- 'passenger_count'\n",
    "\n",
    "pearson_corr <- cor(numeric_columns[[var1]], numeric_columns[[var2]], method = \"pearson\")\n",
    "spearman_corr <- cor(numeric_columns[[var1]], numeric_columns[[var2]], method = \"spearman\")\n",
    "kendall_corr <- cor(numeric_columns[[var1]], numeric_columns[[var2]], method = \"kendall\")\n",
    "\n",
    "cat(sprintf(\"Корреляция между %s и %s:\\n\", var1, var2))\n",
    "cat(sprintf(\"Пирсон: %.2f\\n\", pearson_corr))\n",
    "cat(sprintf(\"Спирмен: %.2f\\n\", spearman_corr))\n",
    "cat(sprintf(\"Кендалл: %.2f\\n\", kendall_corr))"
   ]
  },
  {
   "cell_type": "markdown",
   "id": "3e32bbc7-5d83-41d4-8552-c4a77a6d5730",
   "metadata": {},
   "source": [
    "#### 3 Задание\n",
    "Продемонстрировать использование методов хи-квадрат, точного\n",
    "теста Фишера, теста МакНемара, Кохрана-Мантеля-Хензеля."
   ]
  },
  {
   "cell_type": "code",
   "execution_count": 13,
   "id": "1c5fb7f2-92b3-429b-9ec6-142a2417b443",
   "metadata": {},
   "outputs": [
    {
     "name": "stdout",
     "output_type": "stream",
     "text": [
      "Хи-квадрат тест:\n",
      "Chi2: 50.13, p-value: 0.0000, dof: 4\n",
      "Связь между Sleep_Quality и Health_Risk_Level значима.\n",
      "\n",
      "Хи-квадрат тест:\n",
      "Chi2: 0.80, p-value: 0.6719, dof: 2\n",
      "Нет значимой связи между Gender и Health_Risk_Level.\n",
      "\n",
      "Точный тест Фишера:\n",
      "p-value: 0.2497\n",
      "Нет значимой связи между Mood и Gender.\n",
      "\n",
      "Точный тест Фишера:\n",
      "p-value: 0.8302\n",
      "Нет значимой связи между Mood и Gender.\n",
      "\n",
      "Точный тест Фишера:\n",
      "p-value: 0.0013\n",
      "Связь между Sleep_Quality и Health_Risk_Level значима.\n",
      "\n"
     ]
    }
   ],
   "source": [
    "if (!require(\"dplyr\")) install.packages(\"dplyr\")\n",
    "if (!require(\"stats\")) install.packages(\"stats\")\n",
    "\n",
    "library(dplyr)\n",
    "\n",
    "# Функция для Хи-квадрат теста\n",
    "chi2f <- function(var1, var2, data) {\n",
    "  # Создание таблицы сопряженности\n",
    "  contingency_table <- table(data[[var1]], data[[var2]])\n",
    "  \n",
    "  # Хи-квадрат тест\n",
    "  test <- chisq.test(contingency_table)\n",
    "  \n",
    "  cat(\"Хи-квадрат тест:\\n\")\n",
    "  cat(sprintf(\"Chi2: %.2f, p-value: %.4f, dof: %d\\n\", test$statistic, test$p.value, test$parameter))\n",
    "  \n",
    "  if (test$p.value < 0.05) {\n",
    "    cat(sprintf(\"Связь между %s и %s значима.\\n\\n\", var1, var2))\n",
    "  } else {\n",
    "    cat(sprintf(\"Нет значимой связи между %s и %s.\\n\\n\", var1, var2))\n",
    "  }\n",
    "}\n",
    "\n",
    "# Пример вызова функции chi2f\n",
    "chi2f(\"Sleep_Quality\", \"Health_Risk_Level\", df_2)\n",
    "chi2f(\"Gender\", \"Health_Risk_Level\", df_2)\n",
    "\n",
    "# Функция для точного теста Фишера\n",
    "fisher <- function(var1, var2, data) {\n",
    "  # Создание таблицы сопряженности\n",
    "  contingency_table <- table(data[[var1]], data[[var2]])\n",
    "  \n",
    "  if (all(dim(contingency_table) == c(2, 2))) {\n",
    "    # Применение точного теста Фишера\n",
    "    test <- fisher.test(contingency_table)\n",
    "    \n",
    "    cat(\"Точный тест Фишера:\\n\")\n",
    "    cat(sprintf(\"p-value: %.4f\\n\", test$p.value))\n",
    "    \n",
    "    if (test$p.value < 0.05) {\n",
    "      cat(sprintf(\"Связь между %s и %s значима.\\n\\n\", var1, var2))\n",
    "    } else {\n",
    "      cat(sprintf(\"Нет значимой связи между %s и %s.\\n\\n\", var1, var2))\n",
    "    }\n",
    "  } else {\n",
    "    cat(\"Таблица не 2x2, точный тест Фишера неприменим.\\n\\n\")\n",
    "  }\n",
    "}\n",
    "\n",
    "\n",
    "df_2_filtered <- df_2 %>% filter(Mood %in% c(\"Happy\", \"Stressed\"))\n",
    "contingency_table <- table(df_2_filtered$Mood, df_2_filtered$Gender)\n",
    "fisher(\"Mood\", \"Gender\", df_2_filtered)\n",
    "\n",
    "\n",
    "set.seed(1)\n",
    "df_2_mini <- df_2_filtered %>% sample_n(100)\n",
    "contingency_table <- table(df_2_mini$Mood, df_2_mini$Gender)\n",
    "fisher(\"Mood\", \"Gender\", df_2_mini)\n",
    "\n",
    "set.seed(4)\n",
    "df_2_mini <- df_2_filtered %>% sample_n(100)\n",
    "df_2_ff <- df_2_mini %>% filter(Health_Risk_Level %in% c(\"High\", \"Low\"))\n",
    "df_2_f <- df_2_ff %>% filter(Sleep_Quality %in% c(\"Moderate\", \"Poor\"))\n",
    "\n",
    "contingency_table <- table(df_2_f$Sleep_Quality, df_2_f$Health_Risk_Level)\n",
    "fisher(\"Sleep_Quality\", \"Health_Risk_Level\", df_2_f)"
   ]
  },
  {
   "cell_type": "code",
   "execution_count": 14,
   "id": "52185a4c-168b-4d78-a8fd-1341a7d9b601",
   "metadata": {},
   "outputs": [
    {
     "name": "stdout",
     "output_type": "stream",
     "text": [
      "Тест МакНемара:\n",
      "p-value: 0.0000\n",
      "Признаки SLB_Bin и HRL_Bin зависимы.\n",
      "\n",
      "Тест МакНемара:\n",
      "p-value: 0.3094\n",
      "Признаки SH_Bin и PH_Bin независимы.\n",
      "\n"
     ]
    }
   ],
   "source": [
    "# Функция для теста МакНемара\n",
    "mcnem <- function(var1, var2, data) {\n",
    "  # Создание таблицы сопряженности\n",
    "  mcnemar_table <- table(data[[var1]], data[[var2]])\n",
    "  \n",
    "  if (all(dim(mcnemar_table) == c(2, 2))) {\n",
    "    # Применение теста МакНемара\n",
    "    result <- mcnemar.test(mcnemar_table)\n",
    "    \n",
    "    cat(\"Тест МакНемара:\\n\")\n",
    "    cat(sprintf(\"p-value: %.4f\\n\", result$p.value))\n",
    "    \n",
    "    if (result$p.value < 0.05) {\n",
    "      cat(sprintf(\"Признаки %s и %s зависимы.\\n\\n\", var1, var2))\n",
    "    } else {\n",
    "      cat(sprintf(\"Признаки %s и %s независимы.\\n\\n\", var1, var2))\n",
    "    }\n",
    "  } else {\n",
    "    cat(\"Таблица не 2x2, тест МакНемара неприменим.\\n\\n\")\n",
    "  }\n",
    "}\n",
    "\n",
    "# Бинаризация столбцов\n",
    "df_2_bin <- read.csv('student_health_data_bin.csv')\n",
    "# Пример теста МакНемара\n",
    "mcnem(\"SLB_Bin\", \"HRL_Bin\", df_2_bin)\n",
    "\n",
    "\n",
    "\n",
    "# Пример теста МакНемара для других переменных\n",
    "mcnem(\"SH_Bin\", \"PH_Bin\", df_2_bin)"
   ]
  },
  {
   "cell_type": "code",
   "execution_count": 15,
   "id": "6ce9438c-89dd-492f-89f5-38c9b0731c69",
   "metadata": {},
   "outputs": [],
   "source": [
    "strata <- list()\n",
    "\n",
    "for (level in unique(df_2_bin$Mood)) {\n",
    "  sub_df <- df_2_bin %>% filter(Mood == level)\n",
    "  # Создание таблицы сопряженности (2x2)\n",
    "  table <- table(sub_df$SLB_Bin, sub_df$Gender)\n",
    "  \n",
    "  # Проверка на размерность 2x2\n",
    "  if (all(dim(table) == c(2, 2))) {\n",
    "    strata[[level]] <- table\n",
    "  }\n",
    "}"
   ]
  },
  {
   "cell_type": "code",
   "execution_count": 16,
   "id": "92cbbf95-9bd5-4fd9-b204-e8664488ca98",
   "metadata": {},
   "outputs": [
    {
     "name": "stdout",
     "output_type": "stream",
     "text": [
      "Тест Кохрана-Мантеля-Хензеля:\n",
      "p-value: 0.1221\n",
      "Нет значимой связи между SLB_Bin и Gender с учетом Mood.\n"
     ]
    }
   ],
   "source": [
    "# Преобразование списка стратифицированных таблиц в формат для mantelhaen.test\n",
    "if (length(strata) > 0) {\n",
    "  # Преобразуем список таблиц в массив 3D\n",
    "  cmh_data <- array(0, dim = c(2, 2, length(strata)))\n",
    "  \n",
    "  for (i in 1:length(strata)) {\n",
    "    cmh_data[,,i] <- strata[[i]]\n",
    "  }\n",
    "  \n",
    "  # Тест Кохрана-Мантеля-Хензеля (CMH)\n",
    "  cmh_test <- mantelhaen.test(cmh_data)\n",
    "  \n",
    "  cat(\"Тест Кохрана-Мантеля-Хензеля:\\n\")\n",
    "  cat(sprintf(\"p-value: %.4f\\n\", cmh_test$p.value))\n",
    "  \n",
    "  if (cmh_test$p.value < 0.05) {\n",
    "    cat(\"Есть значимая связь между SLB_Bin и Gender с учетом Mood.\\n\")\n",
    "  } else {\n",
    "    cat(\"Нет значимой связи между SLB_Bin и Gender с учетом Mood.\\n\")\n",
    "  }\n",
    "} else {\n",
    "  cat(\"Недостаточно данных для стратифицированного анализа.\\n\")\n",
    "}"
   ]
  },
  {
   "cell_type": "markdown",
   "id": "11cf1bbf-b1f2-4448-bfe7-5c7bc64e3018",
   "metadata": {},
   "source": [
    "#### 4 Задание\n",
    "Проверить наличие мультиколлинеарности в данных с помощью\n",
    "корреляционной матрицы и фактора инфляции дисперсии."
   ]
  },
  {
   "cell_type": "code",
   "execution_count": 17,
   "id": "3be0185c-71ce-4c20-b186-8f917e3a4f50",
   "metadata": {},
   "outputs": [
    {
     "name": "stderr",
     "output_type": "stream",
     "text": [
      "corrplot 0.95 loaded\n",
      "\n"
     ]
    },
    {
     "name": "stdout",
     "output_type": "stream",
     "text": [
      "Фактор инфляции дисперсии (VIF):\n",
      "                 feature          VIF\n",
      "1                      X 1.001216e+00\n",
      "2               VendorID 1.179026e+00\n",
      "3        passenger_count 1.107577e+00\n",
      "4          trip_distance 7.261403e+00\n",
      "5       pickup_longitude 3.756651e+04\n",
      "6        pickup_latitude 3.756200e+04\n",
      "7             RateCodeID 2.660868e+00\n",
      "8      dropoff_longitude 2.468142e+04\n",
      "9       dropoff_latitude 2.468201e+04\n",
      "10          payment_type 1.733956e+00\n",
      "11           fare_amount 6.854894e+04\n",
      "12                 extra 8.891690e+01\n",
      "13               mta_tax 3.069966e+00\n",
      "14            tip_amount 3.263011e+03\n",
      "15          tolls_amount 1.129935e+03\n",
      "16 improvement_surcharge 1.078963e+00\n",
      "17          total_amount 1.038539e+05\n"
     ]
    },
    {
     "data": {
      "image/png": "[encoded data removed]",
      "text/plain": [
       "Plot with title “Корреляционная матрица”"
      ]
     },
     "metadata": {
      "image/png": {
       "height": 420,
       "width": 420
      }
     },
     "output_type": "display_data"
    }
   ],
   "source": [
    "# Расчет корреляционной матрицы\n",
    "correlation_matrix <- cor(numeric_columns)\n",
    "\n",
    "# Визуализация корреляционной матрицы\n",
    "library(corrplot)\n",
    "corrplot(correlation_matrix, method = \"color\", type = \"upper\", tl.col = \"black\", \n",
    "         tl.srt = 45, col = colorRampPalette(c(\"blue\", \"white\", \"red\"))(200), \n",
    "         addCoef.col = \"black\", number.cex = 0.7, title = \"Корреляционная матрица\")\n",
    "\n",
    "# Функция для расчета VIF для всех переменных в наборе данных\n",
    "calculate_vif <- function(data) {\n",
    "  vif_data <- data.frame(\n",
    "    feature = colnames(data),\n",
    "    VIF = sapply(1:ncol(data), function(i) {\n",
    "      # Модель линейной регрессии для каждой переменной как зависимой\n",
    "      dependent_var <- data[, i]\n",
    "      independent_vars <- data[, -i, drop = FALSE]\n",
    "      \n",
    "      # Формируем регрессионную модель\n",
    "      model <- lm(dependent_var ~ ., data = as.data.frame(independent_vars))\n",
    "      \n",
    "      # Расчет R^2\n",
    "      r_squared <- summary(model)$r.squared\n",
    "      \n",
    "      # Расчет VIF\n",
    "      1 / (1 - r_squared)\n",
    "    })\n",
    "  )\n",
    "  \n",
    "  return(vif_data)\n",
    "}\n",
    "\n",
    "\n",
    "vif_result <- calculate_vif(numeric_columns)\n",
    "\n",
    "cat(\"Фактор инфляции дисперсии (VIF):\\n\")\n",
    "print(vif_result)"
   ]
  },
  {
   "cell_type": "markdown",
   "id": "721d5d46-1df2-40fc-82ba-e9390dfe11ed",
   "metadata": {},
   "source": [
    "#### 5 Задание\n",
    "Исследовать зависимости в данных с помощью дисперсионного\n",
    "анализа."
   ]
  },
  {
   "cell_type": "code",
   "execution_count": 18,
   "id": "3992b8bb-eb31-4633-9454-2a6d31496ad5",
   "metadata": {},
   "outputs": [
    {
     "name": "stdout",
     "output_type": "stream",
     "text": [
      "\n",
      "Результаты ANOVA:\n",
      "F-statistic: 0.23, p-value: 0.6324\n",
      "Нет значимых различий между группами по trip_count.\n",
      "\n",
      "Многофакторный ANOVA:\n",
      "               Df  Sum Sq Mean Sq F value Pr(>F)    \n",
      "VendorID        1     132     132   1.314  0.252    \n",
      "payment_type    1    7426    7426  74.107 <2e-16 ***\n",
      "Residuals    9997 1001731     100                   \n",
      "---\n",
      "Signif. codes:  0 ‘***’ 0.001 ‘**’ 0.01 ‘*’ 0.05 ‘.’ 0.1 ‘ ’ 1\n"
     ]
    }
   ],
   "source": [
    "data <- trips_per_day\n",
    "\n",
    "group_1 <- trips_per_day %>%\n",
    "  filter(X <= 14) %>%\n",
    "  pull(trip_count)\n",
    "\n",
    "group_2 <- trips_per_day %>%\n",
    "  filter(X > 14) %>%\n",
    "  pull(trip_count)\n",
    "\n",
    "groups <- list(group_1, group_2)\n",
    "\n",
    "# Однофакторный дисперсионный анализ (ANOVA)\n",
    "anova_result <- aov(trip_count ~ I(X <= 14), data = data)\n",
    "\n",
    "cat(\"\\nРезультаты ANOVA:\\n\")\n",
    "anova_summary <- summary(anova_result)\n",
    "cat(sprintf(\"F-statistic: %.2f, p-value: %.4f\\n\", anova_summary[[1]]$`F value`[1], anova_summary[[1]]$`Pr(>F)`[1]))\n",
    "\n",
    "if (anova_summary[[1]]$`Pr(>F)`[1] < 0.05) {\n",
    "  cat(\"Значимые различия между группами по trip_count.\\n\")\n",
    "} else {\n",
    "  cat(\"Нет значимых различий между группами по trip_count.\\n\")\n",
    "}\n",
    "\n",
    "# Многофакторный ANOVA\n",
    "formula <- fare_amount ~ VendorID + payment_type\n",
    "anova_model <- aov(formula, data = df)\n",
    "\n",
    "cat(\"\\nМногофакторный ANOVA:\\n\")\n",
    "print(summary(anova_model))"
   ]
  },
  {
   "cell_type": "code",
   "execution_count": 19,
   "id": "74bda53b-3397-4157-a632-c93fb10b7a1f",
   "metadata": {},
   "outputs": [
    {
     "name": "stdout",
     "output_type": "stream",
     "text": [
      "Kolmogorov-Smirnov test:\n",
      "Stat: 0.02, p-value: 0.9161\n",
      "Распределение Heart_Rate соответствует нормальному.\n",
      "\n",
      "Результаты ANOVA:\n",
      "F-statistic: 0.67, p-value: 0.5130\n",
      "Нет значимых различий между группами Health_Risk_Level по Heart_Rate.\n",
      "\n",
      "Многофакторный ANOVA:\n",
      "               Df Sum Sq Mean Sq F value Pr(>F)\n",
      "Mood            2     32   16.03   0.176  0.839\n",
      "Sleep_Quality   2    251  125.29   1.374  0.254\n",
      "Residuals     995  90727   91.18               \n"
     ]
    }
   ],
   "source": [
    "groups <- split(df_2$Heart_Rate, df_2$Health_Risk_Level)\n",
    "\n",
    "# Тест Колмогорова-Смирнова на нормальность\n",
    "ks_test <- ks.test(\n",
    "  df_2$Heart_Rate,\n",
    "  \"pnorm\",\n",
    "  mean = mean(df_2$Heart_Rate, na.rm = TRUE),\n",
    "  sd = sd(df_2$Heart_Rate, na.rm = TRUE)\n",
    ")\n",
    "\n",
    "cat(\"Kolmogorov-Smirnov test:\\n\")\n",
    "cat(sprintf(\"Stat: %.2f, p-value: %.4f\\n\", ks_test$statistic, ks_test$p.value))\n",
    "\n",
    "# Проверка значимости результата\n",
    "if (ks_test$p.value < 0.05) {\n",
    "  cat(\"Распределение Heart_Rate существенно отличается от нормального.\\n\")\n",
    "} else {\n",
    "  cat(\"Распределение Heart_Rate соответствует нормальному.\\n\")\n",
    "}\n",
    "\n",
    "# Однофакторный дисперсионный анализ (ANOVA)\n",
    "anova_result <- aov(Heart_Rate ~ Health_Risk_Level, data = df_2)\n",
    "\n",
    "cat(\"\\nРезультаты ANOVA:\\n\")\n",
    "anova_summary <- summary(anova_result)\n",
    "cat(sprintf(\"F-statistic: %.2f, p-value: %.4f\\n\", \n",
    "            anova_summary[[1]]$`F value`[1], \n",
    "            anova_summary[[1]]$`Pr(>F)`[1]))\n",
    "\n",
    "if (anova_summary[[1]]$`Pr(>F)`[1] < 0.05) {\n",
    "  cat(\"Значимые различия между группами Health_Risk_Level по Heart_Rate.\\n\")\n",
    "} else {\n",
    "  cat(\"Нет значимых различий между группами Health_Risk_Level по Heart_Rate.\\n\")\n",
    "}\n",
    "\n",
    "# Многофакторный ANOVA\n",
    "formula <- Heart_Rate ~ Mood + Sleep_Quality\n",
    "anova_model <- aov(formula, data = df_2)\n",
    "\n",
    "cat(\"\\nМногофакторный ANOVA:\\n\")\n",
    "print(summary(anova_model))"
   ]
  }
 ],
 "metadata": {
  "kernelspec": {
   "display_name": "R",
   "language": "R",
   "name": "ir"
  },
  "language_info": {
   "codemirror_mode": "r",
   "file_extension": ".r",
   "mimetype": "text/x-r-source",
   "name": "R",
   "pygments_lexer": "r",
   "version": "4.2.0"
  }
 },
 "nbformat": 4,
 "nbformat_minor": 5
}
